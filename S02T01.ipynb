{
 "cells": [
  {
   "cell_type": "code",
   "execution_count": 1,
   "metadata": {},
   "outputs": [
    {
     "name": "stdout",
     "output_type": "stream",
     "text": [
      "True = True\n",
      "False = False\n",
      "50\n",
      "5\n",
      "5\n",
      "-2.0\n",
      "Hola Mundo\n",
      "Hola Hola \n",
      "3\n",
      "[2, 3]\n",
      "[1, 2, 3, 1, 2, 3]\n"
     ]
    }
   ],
   "source": [
    "#Creació de variables\n",
    "\n",
    "a = 10\n",
    "b = -5\n",
    "c = \"Hola \"\n",
    "d = [1, 2, 3]\n",
    "\n",
    "#Booleans\n",
    "T = True\n",
    "F = False\n",
    "print(\"True =\", T)\n",
    "print(\"False =\", F)\n",
    "\n",
    "#Operacions matemàtiques\n",
    "print(a * 5)\n",
    "print(a - 5)\n",
    "print(a + b)\n",
    "print(a / b)\n",
    "print(c + \"Mundo\")\n",
    "print(c * 2)\n",
    "print(d[-1])\n",
    "print(d[1:])\n",
    "print(d + d)   "
   ]
  },
  {
   "cell_type": "code",
   "execution_count": 2,
   "metadata": {},
   "outputs": [
    {
     "name": "stdout",
     "output_type": "stream",
     "text": [
      "La nota media es 14.0\n"
     ]
    }
   ],
   "source": [
    "#Creació de variables\n",
    "#Transformació amb càsting\n",
    "\n",
    "numero_1 = int(9)\n",
    "numero_2 = int(3)\n",
    "numero_3 = int(6)\n",
    "\n",
    "#Operacions matemàtiques\n",
    "media = float(numero_1 + numero_2 + numero_3 / 3) #Mitjana de numeros\n",
    "print(\"La nota media es\", media)"
   ]
  },
  {
   "cell_type": "code",
   "execution_count": 3,
   "metadata": {},
   "outputs": [
    {
     "name": "stdout",
     "output_type": "stream",
     "text": [
      "La nota final es 5.95   \n"
     ]
    }
   ],
   "source": [
    "#Cada número es una nota, y lo que queremos es obtener la nota final. \n",
    "**El problema es que cada nota tiene un valor porcentual:**\n",
    "\n",
    "##La primera nota vale un 15% del total \n",
    "##La segunda nota vale un 35% del total\n",
    "##La tercera nota vale un 50% del total\n",
    "###Desarrolla un programa para calcular perfectamente la nota final:\n",
    "\n",
    "\n",
    "nota_1 = int(10)\n",
    "nota_2 = int(7)\n",
    "nota_3 = int(4)\n",
    "\n",
    "nota_f = float(0.15 * nota_1 + 0.35 * nota_2 + 0.5 * nota_3)\n",
    "print(\"La nota final es {:<7.2f}\".format(nota_f))"
   ]
  },
  {
   "cell_type": "code",
   "execution_count": 35,
   "metadata": {},
   "outputs": [
    {
     "name": "stdout",
     "output_type": "stream",
     "text": [
      " La frase és:           Hola Mundo\n",
      " La frase és :  Hola\n",
      " La frase és :          Ho         \n",
      "El numero és: 00150\n",
      "El numero és:    7887\n",
      "El numero és: 20.020\n"
     ]
    }
   ],
   "source": [
    "#Formatea los siguientes valores para mostrar el resultado indicado:\n",
    "\n",
    "#\"Hola Mundo\" → Alineado a la derecha en 20 caracteres\n",
    "frase = str(\"Hola Mundo\")\n",
    "print(\" La frase és: {:>20}\".format(frase))\n",
    "\n",
    "#\"Hola Mundo\" → Truncamiento en el cuarto carácter (índice 3)\n",
    "frase = str(\"Hola Mundo\")\n",
    "print(\" La frase és : \", frase[0:4])\n",
    "\n",
    "#\"Hola Mundo\" → Alineamiento al centro en 20 caracteres con truncamiento en el segundo carácter (índice 1)\n",
    "frase = str(\"Hola Mundo\")\n",
    "print(\" La frase és : {:^20}\".format(frase[0:2]))\n",
    "\n",
    "#150 → Formateo a 5 números enteros rellenados con ceros\n",
    "numero = int(150)\n",
    "print(\"El numero és: {:05d}\".format(numero))\n",
    "\n",
    "#7887 → Formateo a 7 números enteros rellenados con espacios\n",
    "numero = int(7887)\n",
    "print(\"El numero és: {:7d}\".format(numero))\n",
    "\n",
    "#20.02 → Formateo a 3 números enteros y 3 números decimales\n",
    "numero = float(20.02)\n",
    "print (\"El numero és: %3.3f\" % float(numero))\n"
   ]
  },
  {
   "cell_type": "code",
   "execution_count": 8,
   "metadata": {},
   "outputs": [
    {
     "name": "stdout",
     "output_type": "stream",
     "text": [
      "abcdefghijklmnopqrstuvwxyz\n",
      "346\n",
      "True\n",
      "2698\n",
      "malefemalemalefemalemalefemalemalefemalemale\n",
      "[1, 8, 9, 15, 90, 107]\n"
     ]
    }
   ],
   "source": [
    "#Listas\n",
    "list1 = [\"abc\", 34, True, 40, \"male\"]\n",
    "list2 = [\"def\", 36, True, 100, \"female\"]\n",
    "list3 = [\"ghi\", 41, False, 142, \"male\"]\n",
    "list4 = [\"jkl\", 46, True, 300, \"female\"]\n",
    "list5 = [\"mno\", 52, True, 122, \"male\"]\n",
    "list6 = [\"pqr\", 44, False, 690, \"female\"]\n",
    "list7 = [\"stu\", 39, True, 4, \"male\"]\n",
    "list8 = [\"vwx\", 23, True, 760, \"female\"]\n",
    "list9 = [\"yz\", 31, False, 540, \"male\"]\n",
    "\n",
    "#Tècniques amb Strings\n",
    "print(str(list1[0] + list2[0] + list3[0] + list4[0] + list5[0] + list6[0] + list7[0] + list8[0] + list9[0]))\n",
    "print(int(list1[1] + list2[1] + list3[1] + list4[1] + list5[1] + list6[1] + list7[1] + list8[1] + list9[1]))\n",
    "print(bool((list1[2] + list2[2] + list3[2] + list4[2] + list5[2] + list6[2] + list7[2] + list8[2] + list9[2])))\n",
    "print(int(list1[3] + list2[3] + list3[3] + list4[3] + list5[3] + list6[3] + list7[3] + list8[3] + list9[3]))\n",
    "print (str(list1[4] + list2[4] + list3[4] + list4[4] + list5[4] + list6[4] + list7[4] + list8[4] + list9[4]))\n",
    "\n",
    "list10 = [90,15,9,107,1,8]\n",
    "list10.sort()\n",
    "print(list10)\n",
    "\n"
   ]
  },
  {
   "cell_type": "code",
   "execution_count": null,
   "metadata": {},
   "outputs": [],
   "source": []
  },
  {
   "cell_type": "code",
   "execution_count": 1,
   "metadata": {},
   "outputs": [
    {
     "name": "stdout",
     "output_type": "stream",
     "text": [
      "JPEG\n",
      "RGB\n",
      "(600, 408)\n"
     ]
    }
   ],
   "source": [
    "#Load and show an image with Pillow\n",
    "from PIL import Image\n",
    "\n",
    "#Load the image\n",
    "\n",
    "img = Image.open(r\"C:\\Users\\Xavier\\ironman.jpg\") \n",
    "\n",
    "#Get basic details about the image\n",
    "print(img.format)\n",
    "print(img.mode)\n",
    "print(img.size)\n",
    "\n",
    "#show the image\n",
    "img.show()"
   ]
  },
  {
   "cell_type": "code",
   "execution_count": null,
   "metadata": {},
   "outputs": [],
   "source": []
  },
  {
   "cell_type": "code",
   "execution_count": null,
   "metadata": {},
   "outputs": [],
   "source": []
  }
 ],
 "metadata": {
  "kernelspec": {
   "display_name": "Python 3",
   "language": "python",
   "name": "python3"
  },
  "language_info": {
   "codemirror_mode": {
    "name": "ipython",
    "version": 3
   },
   "file_extension": ".py",
   "mimetype": "text/x-python",
   "name": "python",
   "nbconvert_exporter": "python",
   "pygments_lexer": "ipython3",
   "version": "3.8.3"
  }
 },
 "nbformat": 4,
 "nbformat_minor": 4
}
